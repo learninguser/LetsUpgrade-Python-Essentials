{
  "nbformat": 4,
  "nbformat_minor": 0,
  "metadata": {
    "orig_nbformat": 2,
    "colab": {
      "name": "assignment-2.ipynb",
      "provenance": [],
      "collapsed_sections": []
    },
    "kernelspec": {
      "name": "python3",
      "display_name": "Python 3"
    }
  },
  "cells": [
    {
      "cell_type": "markdown",
      "metadata": {
        "id": "jCkOnLok__ZK"
      },
      "source": [
        "# Assignment 2 | 6th January 2021"
      ]
    },
    {
      "cell_type": "markdown",
      "metadata": {
        "id": "B6iwSZRm__ZW"
      },
      "source": [
        "## Question 1:\n",
        "Write a Python program to remove duplicates from a list"
      ]
    },
    {
      "cell_type": "code",
      "metadata": {
        "colab": {
          "base_uri": "https://localhost:8080/"
        },
        "id": "Uc34MQVcBbW3",
        "outputId": "580e5fa7-23e4-4892-a407-903907e2c03f"
      },
      "source": [
        "l1 = [1,1,2,3,4,5,6]\n",
        "print(sorted(list(set(l1))))"
      ],
      "execution_count": 4,
      "outputs": [
        {
          "output_type": "stream",
          "text": [
            "[1, 2, 3, 4, 5, 6]\n"
          ],
          "name": "stdout"
        }
      ]
    },
    {
      "cell_type": "markdown",
      "metadata": {
        "id": "rLPo0D_T__ZW"
      },
      "source": [
        "## Question 2\n",
        "Write a Python program to get the difference between the two lists"
      ]
    },
    {
      "cell_type": "code",
      "metadata": {
        "colab": {
          "base_uri": "https://localhost:8080/"
        },
        "id": "INEomSq7BvVj",
        "outputId": "16541e4b-cdfd-475d-d5b3-271e60c45aab"
      },
      "source": [
        "l1 = [\"red\", \"orange\", \"green\", \"blue\", \"white\"]\n",
        "l2 = [\"black\", \"yellow\", \"green\", \"blue\"]\n",
        "res = []\n",
        "for ele in l1:\n",
        "  if ele not in l2:\n",
        "    res.append(ele)\n",
        "print(res)"
      ],
      "execution_count": 5,
      "outputs": [
        {
          "output_type": "stream",
          "text": [
            "['red', 'orange', 'white']\n"
          ],
          "name": "stdout"
        }
      ]
    },
    {
      "cell_type": "markdown",
      "metadata": {
        "id": "FcNz1tw3__ZW"
      },
      "source": [
        "## Question 3\n",
        "Write a Python program to get the frequency of the elements in a list"
      ]
    },
    {
      "cell_type": "code",
      "metadata": {
        "colab": {
          "base_uri": "https://localhost:8080/"
        },
        "id": "eiGr0-opCJFm",
        "outputId": "d16ff45a-7517-4ce2-fcc9-163518279b4c"
      },
      "source": [
        "l1 = [\"red\", \"orange\", \"red\", \"green\", \"white\", \"orange\", \"blue\", \"white\"]\n",
        "ans = {}.fromkeys(tuple(set(l1)), 0)\n",
        "for key in ans.keys():\n",
        "  ans[key] = l1.count(key)\n",
        "print(ans)"
      ],
      "execution_count": 12,
      "outputs": [
        {
          "output_type": "stream",
          "text": [
            "{'blue': 1, 'orange': 2, 'red': 2, 'white': 2, 'green': 1}\n"
          ],
          "name": "stdout"
        }
      ]
    },
    {
      "cell_type": "markdown",
      "metadata": {
        "id": "eyJ0hEEv__ZX"
      },
      "source": [
        "## Question 4\n",
        "Write a Python program to compute the similarity between two lists.\n",
        "\n",
        "Sample data:​<br>\n",
        "l1: [\"red\", \"orange\", \"green\", \"blue\", \"white\"] <br>\n",
        "l2: [\"black\", \"yellow\", \"green\", \"blue\"] <br>\n",
        "\n",
        "\n",
        "Expected Output:<br>\n",
        "​Color1-Color2: ['white', 'orange', 'red']<br>\n",
        "Color2-Color1: ['black', 'yellow']<br>\n"
      ]
    },
    {
      "cell_type": "code",
      "metadata": {
        "colab": {
          "base_uri": "https://localhost:8080/"
        },
        "id": "AZUE4sMPJJOR",
        "outputId": "ec8d6be2-d2f1-453d-acdb-eb08d83d5e9a"
      },
      "source": [
        "l1 = [\"red\", \"orange\", \"green\", \"blue\", \"white\"]\n",
        "l2 = [\"black\", \"yellow\", \"green\", \"blue\"]\n",
        "\n",
        "res = []\n",
        "for ele in l1:\n",
        "  if ele not in l2:\n",
        "    res.append(ele)\n",
        "print(\"l1-l2: \",res)\n",
        "\n",
        "res = []\n",
        "for ele in l2:\n",
        "  if ele not in l1:\n",
        "    res.append(ele)\n",
        "print(\"l2-l1: \",res)"
      ],
      "execution_count": 13,
      "outputs": [
        {
          "output_type": "stream",
          "text": [
            "l1-l2:  ['red', 'orange', 'white']\n",
            "l2-l1:  ['black', 'yellow']\n"
          ],
          "name": "stdout"
        }
      ]
    },
    {
      "cell_type": "markdown",
      "metadata": {
        "id": "3yYr5XbWAGXi"
      },
      "source": [
        "## Question 5\n",
        "\n",
        "Write a Python function that takes a list of words and returns the length of the longest one\n"
      ]
    },
    {
      "cell_type": "code",
      "metadata": {
        "colab": {
          "base_uri": "https://localhost:8080/"
        },
        "id": "0e-xGXU8AYhC",
        "outputId": "635afd21-1c41-4790-cfc5-2834f32578c3"
      },
      "source": [
        "def longest(l):\n",
        "  return max(l, key=len)\n",
        "l2 = [\"black\", \"yellow\", \"green\", \"blue\"]\n",
        "print(longest(l2))"
      ],
      "execution_count": 14,
      "outputs": [
        {
          "output_type": "stream",
          "text": [
            "yellow\n"
          ],
          "name": "stdout"
        }
      ]
    },
    {
      "cell_type": "markdown",
      "metadata": {
        "id": "EjxTKTWfAGM5"
      },
      "source": [
        "## Question 6\n",
        "\n",
        "Write a Python program to count the occurrences of each word in a given sentence\n"
      ]
    },
    {
      "cell_type": "code",
      "metadata": {
        "colab": {
          "base_uri": "https://localhost:8080/"
        },
        "id": "pEFn7xsnKa_2",
        "outputId": "c4c151a4-002d-4661-ed99-ccf2da750690"
      },
      "source": [
        "sentence = \"the quick brown fox jumps over the lazy dog.\".split()\n",
        "ans = {}.fromkeys(tuple(set(sentence)), 0)\n",
        "for key in ans.keys():\n",
        "  ans[key] = sentence.count(key)\n",
        "print(ans)"
      ],
      "execution_count": 16,
      "outputs": [
        {
          "output_type": "stream",
          "text": [
            "{'brown': 1, 'fox': 1, 'lazy': 1, 'jumps': 1, 'over': 1, 'dog.': 1, 'quick': 1, 'the': 2}\n"
          ],
          "name": "stdout"
        }
      ]
    },
    {
      "cell_type": "markdown",
      "metadata": {
        "id": "JEddpGQNAF-h"
      },
      "source": [
        "## Question 7\n",
        "\n",
        "Write a Python program to count and display the vowels of a given text"
      ]
    },
    {
      "cell_type": "code",
      "metadata": {
        "colab": {
          "base_uri": "https://localhost:8080/"
        },
        "id": "4pOYFQqqLH8j",
        "outputId": "fa5a11c9-fe64-4867-8ea5-7569e7e3c1d9"
      },
      "source": [
        "sentence = \"the quick brown fox jumps over the lazy dog.\"\n",
        "count = 0\n",
        "vowels = ['a', 'e', 'i', 'o', 'u']\n",
        "for char in sentence:\n",
        "  if char in vowels:\n",
        "    count += 1\n",
        "    print(char, end=' ')\n",
        "print()\n",
        "print(\"Vowel Count: \", count)"
      ],
      "execution_count": 17,
      "outputs": [
        {
          "output_type": "stream",
          "text": [
            "e u i o o u o e e a o \n",
            "Vowel Count:  11\n"
          ],
          "name": "stdout"
        }
      ]
    },
    {
      "cell_type": "markdown",
      "metadata": {
        "id": "grB-0mrNAFzv"
      },
      "source": [
        "## Question 8\n",
        "\n",
        "Write a Python script to generate and print a dictionary that contains a number (between 1 and n) in the form (x, x*x)\n"
      ]
    },
    {
      "cell_type": "code",
      "metadata": {
        "colab": {
          "base_uri": "https://localhost:8080/"
        },
        "id": "brSFEpo9Lq4V",
        "outputId": "c0540101-6408-4c86-d90b-caf173f7f915"
      },
      "source": [
        "n = int(input(\"Enter a number: \"))\n",
        "ans = {}\n",
        "for i in range(1, n+1):\n",
        "  ans[i] = (i, i*i)\n",
        "print(ans)"
      ],
      "execution_count": 19,
      "outputs": [
        {
          "output_type": "stream",
          "text": [
            "Enter a number: 5\n",
            "{1: (1, 1), 2: (2, 4), 3: (3, 9), 4: (4, 16), 5: (5, 25)}\n"
          ],
          "name": "stdout"
        }
      ]
    },
    {
      "cell_type": "markdown",
      "metadata": {
        "id": "3LhaQvAyAFpY"
      },
      "source": [
        "## Question 9\n",
        "Write a Python program to combine two dictionary adding values for common keys\n",
        "\n",
        "* d1 = {'a': 100, 'b': 200, 'c':300}\n",
        "* d2 = {'a': 300, 'b': 200, 'd':400}<br />\n",
        "\n",
        "Sample output: <br />\n",
        "* Counter({'a': 400, 'b': 400, 'd': 400, 'c': 300})\n"
      ]
    },
    {
      "cell_type": "code",
      "metadata": {
        "colab": {
          "base_uri": "https://localhost:8080/"
        },
        "id": "5IRTcXpcMQ8V",
        "outputId": "e7b3161c-b0af-46a9-dae2-fab8c72d777e"
      },
      "source": [
        "from collections import Counter\n",
        "\n",
        "d1 = Counter({'a': 100, 'b': 200, 'c':300})\n",
        "d2 = Counter({'a': 300, 'b': 200, 'd':400})\n",
        "print(d1 + d2)"
      ],
      "execution_count": 26,
      "outputs": [
        {
          "output_type": "stream",
          "text": [
            "Counter({'a': 400, 'b': 400, 'd': 400, 'c': 300})\n"
          ],
          "name": "stdout"
        }
      ]
    },
    {
      "cell_type": "markdown",
      "metadata": {
        "id": "IJIiEsdsAFfg"
      },
      "source": [
        "## Question 10\n",
        "\n",
        "Write a Python program to print all unique values in a dictionary\n",
        "* Sample Data : <br /> \n",
        "[{\"V\":\"S001\"}, {\"V\": \"S002\"}, {\"VI\": \"S001\"}, {\"VI\": \"S005\"}, {\"VII\":\"S005\"},\n",
        "{\"V\":\"S009\"},{\"VIII\":\"S007\"}]\n",
        "* Expected Output : <br /> \n",
        "Unique Values: {'S005', 'S002', 'S007', 'S001', 'S009'}\n"
      ]
    },
    {
      "cell_type": "code",
      "metadata": {
        "colab": {
          "base_uri": "https://localhost:8080/"
        },
        "id": "abniLr_vNHkx",
        "outputId": "9a2ea3ee-f506-442c-d055-9e0c70bedeb2"
      },
      "source": [
        "l1 = [{\"V\":\"S001\"}, {\"V\": \"S002\"}, {\"VI\": \"S001\"}, {\"VI\": \"S005\"}, {\"VII\":\"S005\"}, {\"V\":\"S009\"},{\"VIII\":\"S007\"}]\n",
        "ans = set()\n",
        "for entry in l1:\n",
        "  key = list(entry.keys())[0]\n",
        "  ans.add(entry[key])\n",
        "print(ans)"
      ],
      "execution_count": 35,
      "outputs": [
        {
          "output_type": "stream",
          "text": [
            "{'S009', 'S005', 'S001', 'S002', 'S007'}\n"
          ],
          "name": "stdout"
        }
      ]
    }
  ]
}