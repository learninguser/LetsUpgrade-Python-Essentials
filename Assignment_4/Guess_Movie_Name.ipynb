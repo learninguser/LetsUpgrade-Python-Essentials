{
  "nbformat": 4,
  "nbformat_minor": 0,
  "metadata": {
    "kernelspec": {
      "name": "python3",
      "display_name": "Python 3.8.6 64-bit ('LetsUpgrade': conda)",
      "metadata": {
        "interpreter": {
          "hash": "1e7e5d689730038cdcc87d756531d1661862734082371cc12363cf8a593964b2"
        }
      }
    },
    "language_info": {
      "codemirror_mode": {
        "name": "ipython",
        "version": 3
      },
      "file_extension": ".py",
      "mimetype": "text/x-python",
      "name": "python",
      "nbconvert_exporter": "python",
      "pygments_lexer": "ipython3",
      "version": "3.8.6-final"
    },
    "colab": {
      "name": "Mini_Projects_Python.ipynb",
      "provenance": [],
      "toc_visible": true
    }
  },
  "cells": [
    {
      "cell_type": "markdown",
      "metadata": {
        "id": "UZv9odqIyMiz"
      },
      "source": [
        "# Project 2: Guess Movie Name with Firebase"
      ]
    },
    {
      "cell_type": "markdown",
      "metadata": {
        "id": "cggKs0soyMiz"
      },
      "source": [
        "## Step1: Firebase setup"
      ]
    },
    {
      "cell_type": "code",
      "metadata": {
        "id": "S-sszk-7yMiz",
        "outputId": "9a713caf-e6e4-4f33-9b1e-35dec0673390"
      },
      "source": [
        "import firebase_admin as fba\n",
        "from firebase_admin import credentials\n",
        "\n",
        "cred = credentials.Certificate(\"my-project.json\")\n",
        "fba.initialize_app(cred)\n",
        "print(\"Working\")"
      ],
      "execution_count": null,
      "outputs": [
        {
          "output_type": "stream",
          "text": [
            "Working\n"
          ],
          "name": "stdout"
        }
      ]
    },
    {
      "cell_type": "markdown",
      "metadata": {
        "id": "2c_gC6phyMi0"
      },
      "source": [
        "## Step 2: Database creation on Firebase using some dummy data"
      ]
    },
    {
      "cell_type": "code",
      "metadata": {
        "id": "ibdnpImlyMi0",
        "outputId": "cfb52c75-6fb9-4333-811e-59e78cd30d5d"
      },
      "source": [
        "from firebase_admin import firestore\n",
        "db = firestore.client()\n",
        "doc_ref = db.collection(\"movies\").document(\"Bollywood\")\n",
        "\n",
        "data = {\"Name\":[\"war\",\"kgf\",\"3-idiot\",\"family-man\",\"dangal\"],\n",
        "       \"collection\":[400,500,200,100,600]}\n",
        "doc_ref.set(data)\n",
        "print(\"done\")"
      ],
      "execution_count": null,
      "outputs": [
        {
          "output_type": "stream",
          "text": [
            "done\n"
          ],
          "name": "stdout"
        }
      ]
    },
    {
      "cell_type": "markdown",
      "metadata": {
        "id": "4Y6i4ixWyMi0"
      },
      "source": [
        "## Step 3: Retrieve the Database entries"
      ]
    },
    {
      "cell_type": "code",
      "metadata": {
        "id": "Weo7RcsCyMi1",
        "outputId": "1a640964-bbfb-4fcf-eb8b-249d8ed48c65"
      },
      "source": [
        "db = firestore.client()\n",
        "\n",
        "docs = db.collection(\"movies\").stream()\n",
        "for d in docs:\n",
        "    database = d.to_dict()\n",
        "d = database[\"Name\"]\n",
        "print(d)"
      ],
      "execution_count": null,
      "outputs": [
        {
          "output_type": "stream",
          "text": [
            "['war', 'kgf', '3-idiot', 'family-man', 'dangal']\n"
          ],
          "name": "stdout"
        }
      ]
    },
    {
      "cell_type": "markdown",
      "metadata": {
        "id": "nDraXIj8yMi1"
      },
      "source": [
        "## Step 4: Random Guess"
      ]
    },
    {
      "cell_type": "code",
      "metadata": {
        "id": "mdCN9hhpyMi1",
        "outputId": "94647c73-479e-4e34-afcd-fc8853e87c90"
      },
      "source": [
        "import random\n",
        "movie = database[\"Name\"]\n",
        "player = input(\"Write your Name: \")\n",
        "print(\"Guess the character: \")\n",
        "print(\"You have 10 chances to get the movie name: \")\n",
        "print(\"Best of luck! \",player)\n",
        "\n",
        "count = 10\n",
        "guess= \"\"\n",
        "\n",
        "word = random.choice(movie) #war\n",
        "\n",
        "while count > 0:\n",
        "    fail = 0\n",
        "    for char in word:\n",
        "        if char in guess:\n",
        "            print(char)\n",
        "        else:\n",
        "            fail += 1\n",
        "\n",
        "    if fail == 0:\n",
        "        print(\"Congratulations, you won!!!\")\n",
        "        print(\"Movie Name was: \",word)\n",
        "        break\n",
        "        \n",
        "    g = input(\"Enter your character: \")\n",
        "    guess += g\n",
        "    \n",
        "    if g not in word:\n",
        "        count = count-1\n",
        "        print(\"Wrong Answer :(\")\n",
        "        print(\"You have \",count,\"more geusses\")"
      ],
      "execution_count": null,
      "outputs": [
        {
          "output_type": "stream",
          "text": [
            "Guess the character: \n",
            "You have 10 chances to get the movie name: \n",
            "Best of luck!  W\n",
            "Wrong Answer :(\n",
            "You have  9 more geusses\n",
            "Wrong Answer :(\n",
            "You have  8 more geusses\n",
            "Wrong Answer :(\n",
            "You have  7 more geusses\n",
            "Wrong Answer :(\n",
            "You have  6 more geusses\n",
            "f\n",
            "f\n",
            "a\n",
            "m\n",
            "i\n",
            "l\n",
            "y\n",
            "-\n",
            "m\n",
            "a\n",
            "n\n",
            "Congratulations, you won!!!\n",
            "Movie Name was:  family-man\n"
          ],
          "name": "stdout"
        }
      ]
    }
  ]
}