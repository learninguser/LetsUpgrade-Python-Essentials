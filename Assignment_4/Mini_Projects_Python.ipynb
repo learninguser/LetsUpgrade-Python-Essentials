{
  "nbformat": 4,
  "nbformat_minor": 0,
  "metadata": {
    "kernelspec": {
      "name": "python3",
      "display_name": "Python 3.8.6 64-bit ('LetsUpgrade': conda)",
      "metadata": {
        "interpreter": {
          "hash": "1e7e5d689730038cdcc87d756531d1661862734082371cc12363cf8a593964b2"
        }
      }
    },
    "language_info": {
      "codemirror_mode": {
        "name": "ipython",
        "version": 3
      },
      "file_extension": ".py",
      "mimetype": "text/x-python",
      "name": "python",
      "nbconvert_exporter": "python",
      "pygments_lexer": "ipython3",
      "version": "3.8.6-final"
    },
    "colab": {
      "name": "Mini_Projects_Python.ipynb",
      "provenance": [],
      "toc_visible": true
    }
  },
  "cells": [
    {
      "cell_type": "markdown",
      "metadata": {
        "id": "cPcEGa9LyMit"
      },
      "source": [
        "# Project 1: Cryptography GUI Implementation using Tkinter"
      ]
    },
    {
      "cell_type": "code",
      "metadata": {
        "id": "xuWbNlv5yMix"
      },
      "source": [
        "import tkinter as tk\n",
        "import onetimepad"
      ],
      "execution_count": null,
      "outputs": []
    },
    {
      "cell_type": "code",
      "metadata": {
        "id": "B97CEUQmyMiy"
      },
      "source": [
        "def encryptMsg():\n",
        "    a = var.get()\n",
        "    global key, ct\n",
        "    key = 'AnyText'\n",
        "    ct = onetimepad.encrypt(a, key)\n",
        "    e2.delete(0, tk.END)\n",
        "    e2.insert(tk.END, ct)\n",
        "    "
      ],
      "execution_count": null,
      "outputs": []
    },
    {
      "cell_type": "code",
      "metadata": {
        "id": "80OIpOyWyMiy"
      },
      "source": [
        "def decryptMsg():\n",
        "    dt = onetimepad.decrypt(ct, key)\n",
        "    e3.delete(0, tk.END)\n",
        "    e3.insert(tk.END, dt)"
      ],
      "execution_count": null,
      "outputs": []
    },
    {
      "cell_type": "code",
      "metadata": {
        "id": "5olo9OH_yMiy"
      },
      "source": [
        "root = tk.Tk()\n",
        "root.title(\"Cryptography App !!!\")\n",
        "\n",
        "l1 = tk.Label(root, text = 'Plain Text')\n",
        "l1.grid(row=0, column=0)\n",
        "\n",
        "var = tk.StringVar()\n",
        "e1 = tk.Entry(root, textvariable=var)\n",
        "e1.grid(row=0, column=1)\n",
        "\n",
        "l2 = tk.Label(root, text = 'Encrypted Text')\n",
        "l2.grid(row=1, column=0)\n",
        "var2 = tk.StringVar()\n",
        "e2 = tk.Entry(root, textvariable=var2)\n",
        "e2.grid(row=1, column=1)\n",
        "\n",
        "l2 = tk.Label(root, text = 'Encrypted Text')\n",
        "l2.grid(row=0, column=4)\n",
        "e2 = tk.Entry(root, textvariable=var2)\n",
        "e2.grid(row=0, column=5)\n",
        "\n",
        "l3 = tk.Label(root, text = 'Decrypted Text')\n",
        "l3.grid(row=1, column=4)\n",
        "var3 = tk.StringVar()\n",
        "e3 = tk.Entry(root, textvariable=var3)\n",
        "e3.grid(row=1, column=5)\n",
        "\n",
        "b1 = tk.Button(root, text=\"Encrypt\", bg=\"Gray\", fg=\"White\",command=encryptMsg)\n",
        "b1.grid(row=3, column=1)\n",
        "\n",
        "b2 = tk.Button(root, text=\"Decrypt\", bg=\"Gray\", fg=\"White\",command=decryptMsg)\n",
        "b2.grid(row=3, column=5)\n",
        "\n",
        "\n",
        "root.mainloop()"
      ],
      "execution_count": null,
      "outputs": []
    },
    {
      "cell_type": "markdown",
      "metadata": {
        "id": "YkD7Uveny01l"
      },
      "source": [
        "![GUI_Screenshot.png](data:image/png;base64,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)"
      ]
    },
    {
      "cell_type": "markdown",
      "metadata": {
        "id": "UZv9odqIyMiz"
      },
      "source": [
        "# Project 2: Guess Movie Name with Firebase"
      ]
    },
    {
      "cell_type": "markdown",
      "metadata": {
        "id": "cggKs0soyMiz"
      },
      "source": [
        "## Step1: Firebase setup"
      ]
    },
    {
      "cell_type": "code",
      "metadata": {
        "id": "S-sszk-7yMiz",
        "outputId": "9a713caf-e6e4-4f33-9b1e-35dec0673390"
      },
      "source": [
        "import firebase_admin as fba\n",
        "from firebase_admin import credentials\n",
        "\n",
        "cred = credentials.Certificate(\"my-project.json\")\n",
        "fba.initialize_app(cred)\n",
        "print(\"Working\")"
      ],
      "execution_count": null,
      "outputs": [
        {
          "output_type": "stream",
          "text": [
            "Working\n"
          ],
          "name": "stdout"
        }
      ]
    },
    {
      "cell_type": "markdown",
      "metadata": {
        "id": "2c_gC6phyMi0"
      },
      "source": [
        "## Step 2: Database creation on Firebase using some dummy data"
      ]
    },
    {
      "cell_type": "code",
      "metadata": {
        "id": "ibdnpImlyMi0",
        "outputId": "cfb52c75-6fb9-4333-811e-59e78cd30d5d"
      },
      "source": [
        "from firebase_admin import firestore\n",
        "db = firestore.client()\n",
        "doc_ref = db.collection(\"movies\").document(\"Bollywood\")\n",
        "\n",
        "data = {\"Name\":[\"war\",\"kgf\",\"3-idiot\",\"family-man\",\"dangal\"],\n",
        "       \"collection\":[400,500,200,100,600]}\n",
        "doc_ref.set(data)\n",
        "print(\"done\")"
      ],
      "execution_count": null,
      "outputs": [
        {
          "output_type": "stream",
          "text": [
            "done\n"
          ],
          "name": "stdout"
        }
      ]
    },
    {
      "cell_type": "markdown",
      "metadata": {
        "id": "4Y6i4ixWyMi0"
      },
      "source": [
        "## Step 3: Retrieve the Database entries"
      ]
    },
    {
      "cell_type": "code",
      "metadata": {
        "id": "Weo7RcsCyMi1",
        "outputId": "1a640964-bbfb-4fcf-eb8b-249d8ed48c65"
      },
      "source": [
        "db = firestore.client()\n",
        "\n",
        "docs = db.collection(\"movies\").stream()\n",
        "for d in docs:\n",
        "    database = d.to_dict()\n",
        "d = database[\"Name\"]\n",
        "print(d)"
      ],
      "execution_count": null,
      "outputs": [
        {
          "output_type": "stream",
          "text": [
            "['war', 'kgf', '3-idiot', 'family-man', 'dangal']\n"
          ],
          "name": "stdout"
        }
      ]
    },
    {
      "cell_type": "markdown",
      "metadata": {
        "id": "nDraXIj8yMi1"
      },
      "source": [
        "## Step 4: Random Guess"
      ]
    },
    {
      "cell_type": "code",
      "metadata": {
        "id": "mdCN9hhpyMi1",
        "outputId": "94647c73-479e-4e34-afcd-fc8853e87c90"
      },
      "source": [
        "import random\n",
        "movie = database[\"Name\"]\n",
        "player = input(\"Write your Name: \")\n",
        "print(\"Guess the character: \")\n",
        "print(\"You have 10 chances to get the movie name: \")\n",
        "print(\"Best of luck! \",player)\n",
        "\n",
        "count = 10\n",
        "guess= \"\"\n",
        "\n",
        "word = random.choice(movie) #war\n",
        "\n",
        "while count > 0:\n",
        "    fail = 0\n",
        "    for char in word:\n",
        "        if char in guess:\n",
        "            print(char)\n",
        "        else:\n",
        "            fail += 1\n",
        "\n",
        "    if fail == 0:\n",
        "        print(\"Congratulations, you won!!!\")\n",
        "        print(\"Movie Name was: \",word)\n",
        "        break\n",
        "        \n",
        "    g = input(\"Enter your character: \")\n",
        "    guess += g\n",
        "    \n",
        "    if g not in word:\n",
        "        count = count-1\n",
        "        print(\"Wrong Answer :(\")\n",
        "        print(\"You have \",count,\"more geusses\")"
      ],
      "execution_count": null,
      "outputs": [
        {
          "output_type": "stream",
          "text": [
            "Guess the character: \n",
            "You have 10 chances to get the movie name: \n",
            "Best of luck!  W\n",
            "Wrong Answer :(\n",
            "You have  9 more geusses\n",
            "Wrong Answer :(\n",
            "You have  8 more geusses\n",
            "Wrong Answer :(\n",
            "You have  7 more geusses\n",
            "Wrong Answer :(\n",
            "You have  6 more geusses\n",
            "f\n",
            "f\n",
            "a\n",
            "m\n",
            "i\n",
            "l\n",
            "y\n",
            "-\n",
            "m\n",
            "a\n",
            "n\n",
            "Congratulations, you won!!!\n",
            "Movie Name was:  family-man\n"
          ],
          "name": "stdout"
        }
      ]
    },
    {
      "cell_type": "markdown",
      "metadata": {
        "id": "7jhCDQQQyMi1"
      },
      "source": [
        "# Project 3: Instagram Photo downloader using Python"
      ]
    },
    {
      "cell_type": "code",
      "metadata": {
        "id": "ju3MonluyMi1"
      },
      "source": [
        "import os\n",
        "os.chdir('instagram')"
      ],
      "execution_count": null,
      "outputs": []
    },
    {
      "cell_type": "code",
      "metadata": {
        "id": "TmBAvaEPyMi2",
        "outputId": "694be9a2-19e9-450f-dd2b-651bda43a795"
      },
      "source": [
        "!instaloader --no-videos --no-video-thumbnails --no-metadata-json --no-compress-json --login dummyuser --password dummypassword  profile funwithmachinelearning"
      ],
      "execution_count": null,
      "outputs": [
        {
          "output_type": "stream",
          "text": [
            "Loaded session from /home/pavan/.config/instaloader/session-learninguser.\n",
            "Logged in as learninguser.\n",
            "JSON Query to profile/feed/: Could not find \"window._sharedData\" in html response. [retrying; skip with ^C]\n",
            "JSON Query to profile/feed/: Could not find \"window._sharedData\" in html response. [retrying; skip with ^C]\n",
            "Profile profile does not exist.\n",
            "The most similar profiles are: profile._pictures._, profile._.girls, profile_girl_hot, icons.30, cartoon.pfp.\n",
            "Trying again anonymously, helps in case you are just blocked.\n",
            "JSON Query to profile/feed/: 404 Not Found [retrying; skip with ^C]\n",
            "JSON Query to profile/feed/: 404 Not Found [retrying; skip with ^C]\n",
            "Profile profile does not exist.\n",
            "The most similar profiles are: profile._pictures._, profile_org1, icons.30, profile_girl_hot, profile_.wallpaper.\n",
            "Stored ID 44589631714 for profile funwithmachinelearning.\n",
            "funwithmachinelearning/2020-12-16_17-23-15_UTC_profile_pic.jpg \n",
            "Retrieving posts from profile funwithmachinelearning.\n",
            "[ 1/48] funwithmachinelearning/2021-01-07_14-56-24_UTC_1.jpg funwithmachinelearning/2021-01-07_14-56-24_UTC_2.jpg funwithmachinelearning/2021-01-07_14-56-24_UTC_3.jpg [Staking- an intuitive and pow…] \n",
            "[ 2/48] funwithmachinelearning/2021-01-07_14-32-04_UTC.jpg [Here’s the discussion of the …] \n",
            "[ 3/48] funwithmachinelearning/2021-01-07_13-47-45_UTC.jpg [Today’s post is about a power…] \n",
            "[ 4/48] funwithmachinelearning/2021-01-04_14-41-36_UTC_1.jpg funwithmachinelearning/2021-01-04_14-41-36_UTC_2.jpg funwithmachinelearning/2021-01-04_14-41-36_UTC_3.jpg [Today’s post: Hyper-parameter…] \n",
            "[ 5/48] funwithmachinelearning/2021-01-04_14-39-10_UTC.jpg [Here’s the discussion for imp…] \n",
            "[ 6/48] funwithmachinelearning/2021-01-04_14-08-50_UTC.jpg [Hope you guys had a lovely ho…] \n",
            "[ 7/48] funwithmachinelearning/2020-12-29_16-14-24_UTC_1.jpg funwithmachinelearning/2020-12-29_16-14-24_UTC_2.jpg funwithmachinelearning/2020-12-29_16-14-24_UTC_3.jpg [Today topic: Random Forest🌳🌳 …] \n",
            "[ 8/48] funwithmachinelearning/2020-12-29_14-36-59_UTC.jpg [What is the earlier code for?…] \n",
            "[ 9/48] funwithmachinelearning/2020-12-29_14-02-18_UTC.jpg [Code to train a model using a…] \n",
            "[10/48] funwithmachinelearning/2020-12-28_12-29-47_UTC.jpg \n",
            "[11/48] funwithmachinelearning/2020-12-28_12-29-16_UTC.jpg \n",
            "[12/48] funwithmachinelearning/2020-12-27_14-04-10_UTC.jpg [Hope you all enjoyed your hol…] \n",
            "[13/48] funwithmachinelearning/2020-12-23_16-31-31_UTC.jpg [Histogram to inspect your var…] \n",
            "[14/48] funwithmachinelearning/2020-12-23_16-29-34_UTC.jpg [Histogram and how to use it. …] \n",
            "[15/48] funwithmachinelearning/2020-12-23_14-00-00_UTC.jpg [Today we’ll dive in to an imp…] \n",
            "[16/48] funwithmachinelearning/2020-12-22_16-34-46_UTC.jpg [Another Ensemble technique to…] \n",
            "[17/48] funwithmachinelearning/2020-12-22_16-31-33_UTC.jpg [What is Soft Voting Ensemble?…] \n",
            "[18/48] funwithmachinelearning/2020-12-22_14-20-41_UTC.jpg [Another modelling method that…] \n",
            "[19/48] funwithmachinelearning/2020-12-21_16-55-12_UTC.jpg [Log normalisation - a useful …] \n",
            "[20/48] funwithmachinelearning/2020-12-21_15-38-41_UTC.jpg [When the distribution of your…] \n",
            "[21/48] funwithmachinelearning/2020-12-21_14-04-06_UTC.jpg [Hi guys, let’s start off this…] \n",
            "[22/48] funwithmachinelearning/2020-12-19_16-52-00_UTC.jpg [Enjoy your weekend and don’t …] \n",
            "[23/48] funwithmachinelearning/2020-12-19_16-50-52_UTC.jpg [Another way to deal with NaN …] \n",
            "[24/48] funwithmachinelearning/2020-12-19_16-06-59_UTC.jpg [Hope everyone’s having a nice…] \n",
            "[25/48] funwithmachinelearning/2020-12-18_17-14-10_UTC.jpg [Our topic for today- hope you…] \n",
            "[26/48] funwithmachinelearning/2020-12-18_17-13-20_UTC.jpg [Discussion for SVM algorithm,…] \n",
            "[27/48] funwithmachinelearning/2020-12-18_16-07-25_UTC.jpg [Happy Friday😉! Today’s post i…] \n",
            "[28/48] funwithmachinelearning/2020-12-17_16-12-12_UTC.jpg [Always scatter plot your feat…] \n",
            "[29/48] funwithmachinelearning/2020-12-17_16-10-39_UTC.jpg [Discussion for the previous c…] \n",
            "[30/48] funwithmachinelearning/2020-12-17_14-04-49_UTC.jpg [This is the code to make a co…] \n",
            "[31/48] funwithmachinelearning/2020-12-16_16-27-57_UTC.jpg [Today’s post: Ensemble learni…] \n",
            "[32/48] funwithmachinelearning/2020-12-16_16-25-53_UTC.jpg [Here’s the discussion on when…] \n",
            "[33/48] funwithmachinelearning/2020-12-16_14-24-27_UTC.jpg [Here’s the code for a popular…] \n",
            "[34/48] funwithmachinelearning/2020-12-15_17-13-06_UTC.jpg [Today, we’re covering the bas…] \n",
            "[35/48] funwithmachinelearning/2020-12-15_16-09-04_UTC.jpg [Here is the discussion for th…] \n",
            "[36/48] funwithmachinelearning/2020-12-15_14-30-14_UTC.jpg [Happy Tuesday✨. Today’s topic…] \n",
            "[37/48] funwithmachinelearning/2020-12-14_09-37-51_UTC.jpg [Check out previous posts for …] \n",
            "[38/48] funwithmachinelearning/2020-12-14_09-32-03_UTC.jpg [That’s right, we are discussi…] \n",
            "[39/48] funwithmachinelearning/2020-12-14_08-02-17_UTC.jpg [Hello world🤗! Can you figure …] \n",
            "[40/48] funwithmachinelearning/2020-12-13_20-21-05_UTC.jpg \n",
            "[41/48] funwithmachinelearning/2020-12-13_20-20-59_UTC.jpg \n",
            "[42/48] funwithmachinelearning/2020-12-13_20-20-53_UTC.jpg \n",
            "[43/48] funwithmachinelearning/2020-12-13_20-20-45_UTC.jpg \n",
            "[44/48] funwithmachinelearning/2020-12-13_20-20-38_UTC.jpg \n",
            "[45/48] funwithmachinelearning/2020-12-13_20-20-33_UTC.jpg \n",
            "[46/48] funwithmachinelearning/2020-12-13_20-20-25_UTC.jpg \n",
            "[47/48] funwithmachinelearning/2020-12-13_20-20-17_UTC.jpg \n",
            "[48/48] funwithmachinelearning/2020-12-13_20-19-45_UTC.jpg \n",
            "Saved session to /home/pavan/.config/instaloader/session-learninguser.\n",
            "\n",
            "Errors or warnings occurred:\n",
            "Profile profile does not exist.\n",
            "The most similar profiles are: profile._pictures._, profile_org1, icons.30, profile_girl_hot, profile_.wallpaper.\n"
          ],
          "name": "stdout"
        }
      ]
    }
  ]
}