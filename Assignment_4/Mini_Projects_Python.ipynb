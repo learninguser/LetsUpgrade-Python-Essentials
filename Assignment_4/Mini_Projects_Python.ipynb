{
 "cells": [
  {
   "source": [
    "# Project 1: Cryptography GUI Implementation using Tkinter"
   ],
   "cell_type": "markdown",
   "metadata": {}
  },
  {
   "cell_type": "code",
   "execution_count": 10,
   "metadata": {},
   "outputs": [],
   "source": [
    "import tkinter as tk\n",
    "import onetimepad"
   ]
  },
  {
   "cell_type": "code",
   "execution_count": 11,
   "metadata": {},
   "outputs": [],
   "source": [
    "def encryptMsg():\n",
    "    a = var.get()\n",
    "    global key, ct\n",
    "    key = 'AnyText'\n",
    "    ct = onetimepad.encrypt(a, key)\n",
    "    e2.delete(0, tk.END)\n",
    "    e2.insert(tk.END, ct)\n",
    "    "
   ]
  },
  {
   "cell_type": "code",
   "execution_count": 9,
   "metadata": {},
   "outputs": [],
   "source": [
    "def decryptMsg():\n",
    "    dt = onetimepad.decrypt(ct, key)\n",
    "    e3.delete(0, tk.END)\n",
    "    e3.insert(tk.END, dt)"
   ]
  },
  {
   "cell_type": "code",
   "execution_count": 20,
   "metadata": {},
   "outputs": [],
   "source": [
    "root = tk.Tk()\n",
    "root.title(\"Cryptography App !!!\")\n",
    "\n",
    "l1 = tk.Label(root, text = 'Plain Text')\n",
    "l1.grid(row=0, column=0)\n",
    "\n",
    "var = tk.StringVar()\n",
    "e1 = tk.Entry(root, textvariable=var)\n",
    "e1.grid(row=0, column=1)\n",
    "\n",
    "l2 = tk.Label(root, text = 'Encrypted Text')\n",
    "l2.grid(row=1, column=0)\n",
    "var2 = tk.StringVar()\n",
    "e2 = tk.Entry(root, textvariable=var2)\n",
    "e2.grid(row=1, column=1)\n",
    "\n",
    "l2 = tk.Label(root, text = 'Encrypted Text')\n",
    "l2.grid(row=0, column=4)\n",
    "e2 = tk.Entry(root, textvariable=var2)\n",
    "e2.grid(row=0, column=5)\n",
    "\n",
    "l3 = tk.Label(root, text = 'Decrypted Text')\n",
    "l3.grid(row=1, column=4)\n",
    "var3 = tk.StringVar()\n",
    "e3 = tk.Entry(root, textvariable=var3)\n",
    "e3.grid(row=1, column=5)\n",
    "\n",
    "b1 = tk.Button(root, text=\"Encrypt\", bg=\"Gray\", fg=\"White\",command=encryptMsg)\n",
    "b1.grid(row=3, column=1)\n",
    "\n",
    "b2 = tk.Button(root, text=\"Decrypt\", bg=\"Gray\", fg=\"White\",command=decryptMsg)\n",
    "b2.grid(row=3, column=5)\n",
    "\n",
    "\n",
    "root.mainloop()"
   ]
  },
  {
   "source": [
    "# Project 2: Guess Movie Name with Firebase"
   ],
   "cell_type": "markdown",
   "metadata": {}
  },
  {
   "source": [
    "## Step1: Firebase setup"
   ],
   "cell_type": "markdown",
   "metadata": {}
  },
  {
   "cell_type": "code",
   "execution_count": 23,
   "metadata": {},
   "outputs": [
    {
     "output_type": "stream",
     "name": "stdout",
     "text": [
      "Working\n"
     ]
    }
   ],
   "source": [
    "import firebase_admin as fba\n",
    "from firebase_admin import credentials\n",
    "\n",
    "cred = credentials.Certificate(\"my-project.json\")\n",
    "fba.initialize_app(cred)\n",
    "print(\"Working\")"
   ]
  },
  {
   "source": [
    "## Step 2: Database creation on Firebase using some dummy data"
   ],
   "cell_type": "markdown",
   "metadata": {}
  },
  {
   "cell_type": "code",
   "execution_count": 26,
   "metadata": {},
   "outputs": [
    {
     "output_type": "stream",
     "name": "stdout",
     "text": [
      "done\n"
     ]
    }
   ],
   "source": [
    "from firebase_admin import firestore\n",
    "db = firestore.client()\n",
    "doc_ref = db.collection(\"movies\").document(\"Bollywood\")\n",
    "\n",
    "data = {\"Name\":[\"war\",\"kgf\",\"3-idiot\",\"family-man\",\"dangal\"],\n",
    "       \"collection\":[400,500,200,100,600]}\n",
    "doc_ref.set(data)\n",
    "print(\"done\")"
   ]
  },
  {
   "source": [
    "## Step 3: Retrieve the Database entries"
   ],
   "cell_type": "markdown",
   "metadata": {}
  },
  {
   "cell_type": "code",
   "execution_count": 27,
   "metadata": {},
   "outputs": [
    {
     "output_type": "stream",
     "name": "stdout",
     "text": [
      "['war', 'kgf', '3-idiot', 'family-man', 'dangal']\n"
     ]
    }
   ],
   "source": [
    "db = firestore.client()\n",
    "\n",
    "docs = db.collection(\"movies\").stream()\n",
    "for d in docs:\n",
    "    database = d.to_dict()\n",
    "d = database[\"Name\"]\n",
    "print(d)"
   ]
  },
  {
   "source": [
    "## Step 4: Random Guess"
   ],
   "cell_type": "markdown",
   "metadata": {}
  },
  {
   "cell_type": "code",
   "execution_count": 30,
   "metadata": {},
   "outputs": [
    {
     "output_type": "stream",
     "name": "stdout",
     "text": [
      "Guess the character: \n",
      "You have 10 chances to get the movie name: \n",
      "Best of luck!  W\n",
      "Wrong Answer :(\n",
      "You have  9 more geusses\n",
      "Wrong Answer :(\n",
      "You have  8 more geusses\n",
      "Wrong Answer :(\n",
      "You have  7 more geusses\n",
      "Wrong Answer :(\n",
      "You have  6 more geusses\n",
      "f\n",
      "f\n",
      "a\n",
      "m\n",
      "i\n",
      "l\n",
      "y\n",
      "-\n",
      "m\n",
      "a\n",
      "n\n",
      "Congratulations, you won!!!\n",
      "Movie Name was:  family-man\n"
     ]
    }
   ],
   "source": [
    "import random\n",
    "movie = database[\"Name\"]\n",
    "player = input(\"Write your Name: \")\n",
    "print(\"Guess the character: \")\n",
    "print(\"You have 10 chances to get the movie name: \")\n",
    "print(\"Best of luck! \",player)\n",
    "\n",
    "count = 10\n",
    "guess= \"\"\n",
    "\n",
    "word = random.choice(movie) #war\n",
    "\n",
    "while count > 0:\n",
    "    fail = 0\n",
    "    for char in word:\n",
    "        if char in guess:\n",
    "            print(char)\n",
    "        else:\n",
    "            fail += 1\n",
    "\n",
    "    if fail == 0:\n",
    "        print(\"Congratulations, you won!!!\")\n",
    "        print(\"Movie Name was: \",word)\n",
    "        break\n",
    "        \n",
    "    g = input(\"Enter your character: \")\n",
    "    guess += g\n",
    "    \n",
    "    if g not in word:\n",
    "        count = count-1\n",
    "        print(\"Wrong Answer :(\")\n",
    "        print(\"You have \",count,\"more geusses\")"
   ]
  },
  {
   "source": [
    "# Project 3: Instagram Photo downloader using Python"
   ],
   "cell_type": "markdown",
   "metadata": {}
  },
  {
   "cell_type": "code",
   "execution_count": 31,
   "metadata": {},
   "outputs": [],
   "source": [
    "import os\n",
    "os.chdir('instagram')"
   ]
  },
  {
   "cell_type": "code",
   "execution_count": 39,
   "metadata": {},
   "outputs": [
    {
     "output_type": "stream",
     "name": "stdout",
     "text": [
      "Loaded session from /home/pavan/.config/instaloader/session-learninguser.\n",
      "Logged in as learninguser.\n",
      "JSON Query to profile/feed/: Could not find \"window._sharedData\" in html response. [retrying; skip with ^C]\n",
      "JSON Query to profile/feed/: Could not find \"window._sharedData\" in html response. [retrying; skip with ^C]\n",
      "Profile profile does not exist.\n",
      "The most similar profiles are: profile._pictures._, profile._.girls, profile_girl_hot, icons.30, cartoon.pfp.\n",
      "Trying again anonymously, helps in case you are just blocked.\n",
      "JSON Query to profile/feed/: 404 Not Found [retrying; skip with ^C]\n",
      "JSON Query to profile/feed/: 404 Not Found [retrying; skip with ^C]\n",
      "Profile profile does not exist.\n",
      "The most similar profiles are: profile._pictures._, profile_org1, icons.30, profile_girl_hot, profile_.wallpaper.\n",
      "Stored ID 44589631714 for profile funwithmachinelearning.\n",
      "funwithmachinelearning/2020-12-16_17-23-15_UTC_profile_pic.jpg \n",
      "Retrieving posts from profile funwithmachinelearning.\n",
      "[ 1/48] funwithmachinelearning/2021-01-07_14-56-24_UTC_1.jpg funwithmachinelearning/2021-01-07_14-56-24_UTC_2.jpg funwithmachinelearning/2021-01-07_14-56-24_UTC_3.jpg [Staking- an intuitive and pow…] \n",
      "[ 2/48] funwithmachinelearning/2021-01-07_14-32-04_UTC.jpg [Here’s the discussion of the …] \n",
      "[ 3/48] funwithmachinelearning/2021-01-07_13-47-45_UTC.jpg [Today’s post is about a power…] \n",
      "[ 4/48] funwithmachinelearning/2021-01-04_14-41-36_UTC_1.jpg funwithmachinelearning/2021-01-04_14-41-36_UTC_2.jpg funwithmachinelearning/2021-01-04_14-41-36_UTC_3.jpg [Today’s post: Hyper-parameter…] \n",
      "[ 5/48] funwithmachinelearning/2021-01-04_14-39-10_UTC.jpg [Here’s the discussion for imp…] \n",
      "[ 6/48] funwithmachinelearning/2021-01-04_14-08-50_UTC.jpg [Hope you guys had a lovely ho…] \n",
      "[ 7/48] funwithmachinelearning/2020-12-29_16-14-24_UTC_1.jpg funwithmachinelearning/2020-12-29_16-14-24_UTC_2.jpg funwithmachinelearning/2020-12-29_16-14-24_UTC_3.jpg [Today topic: Random Forest🌳🌳 …] \n",
      "[ 8/48] funwithmachinelearning/2020-12-29_14-36-59_UTC.jpg [What is the earlier code for?…] \n",
      "[ 9/48] funwithmachinelearning/2020-12-29_14-02-18_UTC.jpg [Code to train a model using a…] \n",
      "[10/48] funwithmachinelearning/2020-12-28_12-29-47_UTC.jpg \n",
      "[11/48] funwithmachinelearning/2020-12-28_12-29-16_UTC.jpg \n",
      "[12/48] funwithmachinelearning/2020-12-27_14-04-10_UTC.jpg [Hope you all enjoyed your hol…] \n",
      "[13/48] funwithmachinelearning/2020-12-23_16-31-31_UTC.jpg [Histogram to inspect your var…] \n",
      "[14/48] funwithmachinelearning/2020-12-23_16-29-34_UTC.jpg [Histogram and how to use it. …] \n",
      "[15/48] funwithmachinelearning/2020-12-23_14-00-00_UTC.jpg [Today we’ll dive in to an imp…] \n",
      "[16/48] funwithmachinelearning/2020-12-22_16-34-46_UTC.jpg [Another Ensemble technique to…] \n",
      "[17/48] funwithmachinelearning/2020-12-22_16-31-33_UTC.jpg [What is Soft Voting Ensemble?…] \n",
      "[18/48] funwithmachinelearning/2020-12-22_14-20-41_UTC.jpg [Another modelling method that…] \n",
      "[19/48] funwithmachinelearning/2020-12-21_16-55-12_UTC.jpg [Log normalisation - a useful …] \n",
      "[20/48] funwithmachinelearning/2020-12-21_15-38-41_UTC.jpg [When the distribution of your…] \n",
      "[21/48] funwithmachinelearning/2020-12-21_14-04-06_UTC.jpg [Hi guys, let’s start off this…] \n",
      "[22/48] funwithmachinelearning/2020-12-19_16-52-00_UTC.jpg [Enjoy your weekend and don’t …] \n",
      "[23/48] funwithmachinelearning/2020-12-19_16-50-52_UTC.jpg [Another way to deal with NaN …] \n",
      "[24/48] funwithmachinelearning/2020-12-19_16-06-59_UTC.jpg [Hope everyone’s having a nice…] \n",
      "[25/48] funwithmachinelearning/2020-12-18_17-14-10_UTC.jpg [Our topic for today- hope you…] \n",
      "[26/48] funwithmachinelearning/2020-12-18_17-13-20_UTC.jpg [Discussion for SVM algorithm,…] \n",
      "[27/48] funwithmachinelearning/2020-12-18_16-07-25_UTC.jpg [Happy Friday😉! Today’s post i…] \n",
      "[28/48] funwithmachinelearning/2020-12-17_16-12-12_UTC.jpg [Always scatter plot your feat…] \n",
      "[29/48] funwithmachinelearning/2020-12-17_16-10-39_UTC.jpg [Discussion for the previous c…] \n",
      "[30/48] funwithmachinelearning/2020-12-17_14-04-49_UTC.jpg [This is the code to make a co…] \n",
      "[31/48] funwithmachinelearning/2020-12-16_16-27-57_UTC.jpg [Today’s post: Ensemble learni…] \n",
      "[32/48] funwithmachinelearning/2020-12-16_16-25-53_UTC.jpg [Here’s the discussion on when…] \n",
      "[33/48] funwithmachinelearning/2020-12-16_14-24-27_UTC.jpg [Here’s the code for a popular…] \n",
      "[34/48] funwithmachinelearning/2020-12-15_17-13-06_UTC.jpg [Today, we’re covering the bas…] \n",
      "[35/48] funwithmachinelearning/2020-12-15_16-09-04_UTC.jpg [Here is the discussion for th…] \n",
      "[36/48] funwithmachinelearning/2020-12-15_14-30-14_UTC.jpg [Happy Tuesday✨. Today’s topic…] \n",
      "[37/48] funwithmachinelearning/2020-12-14_09-37-51_UTC.jpg [Check out previous posts for …] \n",
      "[38/48] funwithmachinelearning/2020-12-14_09-32-03_UTC.jpg [That’s right, we are discussi…] \n",
      "[39/48] funwithmachinelearning/2020-12-14_08-02-17_UTC.jpg [Hello world🤗! Can you figure …] \n",
      "[40/48] funwithmachinelearning/2020-12-13_20-21-05_UTC.jpg \n",
      "[41/48] funwithmachinelearning/2020-12-13_20-20-59_UTC.jpg \n",
      "[42/48] funwithmachinelearning/2020-12-13_20-20-53_UTC.jpg \n",
      "[43/48] funwithmachinelearning/2020-12-13_20-20-45_UTC.jpg \n",
      "[44/48] funwithmachinelearning/2020-12-13_20-20-38_UTC.jpg \n",
      "[45/48] funwithmachinelearning/2020-12-13_20-20-33_UTC.jpg \n",
      "[46/48] funwithmachinelearning/2020-12-13_20-20-25_UTC.jpg \n",
      "[47/48] funwithmachinelearning/2020-12-13_20-20-17_UTC.jpg \n",
      "[48/48] funwithmachinelearning/2020-12-13_20-19-45_UTC.jpg \n",
      "Saved session to /home/pavan/.config/instaloader/session-learninguser.\n",
      "\n",
      "Errors or warnings occurred:\n",
      "Profile profile does not exist.\n",
      "The most similar profiles are: profile._pictures._, profile_org1, icons.30, profile_girl_hot, profile_.wallpaper.\n"
     ]
    }
   ],
   "source": [
    "!instaloader --no-videos --no-video-thumbnails --no-metadata-json --no-compress-json --login dummyuser --password dummypassword  profile funwithmachinelearning"
   ]
  }
 ],
 "metadata": {
  "kernelspec": {
   "name": "python3",
   "display_name": "Python 3.8.6 64-bit ('LetsUpgrade': conda)",
   "metadata": {
    "interpreter": {
     "hash": "1e7e5d689730038cdcc87d756531d1661862734082371cc12363cf8a593964b2"
    }
   }
  },
  "language_info": {
   "codemirror_mode": {
    "name": "ipython",
    "version": 3
   },
   "file_extension": ".py",
   "mimetype": "text/x-python",
   "name": "python",
   "nbconvert_exporter": "python",
   "pygments_lexer": "ipython3",
   "version": "3.8.6-final"
  }
 },
 "nbformat": 4,
 "nbformat_minor": 4
}