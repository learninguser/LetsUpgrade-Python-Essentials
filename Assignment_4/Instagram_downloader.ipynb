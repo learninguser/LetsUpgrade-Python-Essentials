{
  "nbformat": 4,
  "nbformat_minor": 0,
  "metadata": {
    "kernelspec": {
      "name": "python3",
      "display_name": "Python 3.8.6 64-bit ('LetsUpgrade': conda)",
      "metadata": {
        "interpreter": {
          "hash": "1e7e5d689730038cdcc87d756531d1661862734082371cc12363cf8a593964b2"
        }
      }
    },
    "language_info": {
      "codemirror_mode": {
        "name": "ipython",
        "version": 3
      },
      "file_extension": ".py",
      "mimetype": "text/x-python",
      "name": "python",
      "nbconvert_exporter": "python",
      "pygments_lexer": "ipython3",
      "version": "3.8.6-final"
    },
    "colab": {
      "name": "Mini_Projects_Python.ipynb",
      "provenance": [],
      "toc_visible": true
    }
  },
  "cells": [
    {
      "cell_type": "markdown",
      "metadata": {
        "id": "7jhCDQQQyMi1"
      },
      "source": [
        "# Project 3: Instagram Photo downloader using Python"
      ]
    },
    {
      "cell_type": "code",
      "metadata": {
        "id": "ju3MonluyMi1"
      },
      "source": [
        "import os\n",
        "os.chdir('instagram')"
      ],
      "execution_count": null,
      "outputs": []
    },
    {
      "cell_type": "code",
      "metadata": {
        "id": "TmBAvaEPyMi2",
        "outputId": "694be9a2-19e9-450f-dd2b-651bda43a795"
      },
      "source": [
        "!instaloader --no-videos --no-video-thumbnails --no-metadata-json --no-compress-json --login dummyuser --password dummypassword  profile funwithmachinelearning"
      ],
      "execution_count": null,
      "outputs": [
        {
          "output_type": "stream",
          "text": [
            "Loaded session from /home/pavan/.config/instaloader/session-learninguser.\n",
            "Logged in as learninguser.\n",
            "JSON Query to profile/feed/: Could not find \"window._sharedData\" in html response. [retrying; skip with ^C]\n",
            "JSON Query to profile/feed/: Could not find \"window._sharedData\" in html response. [retrying; skip with ^C]\n",
            "Profile profile does not exist.\n",
            "The most similar profiles are: profile._pictures._, profile._.girls, profile_girl_hot, icons.30, cartoon.pfp.\n",
            "Trying again anonymously, helps in case you are just blocked.\n",
            "JSON Query to profile/feed/: 404 Not Found [retrying; skip with ^C]\n",
            "JSON Query to profile/feed/: 404 Not Found [retrying; skip with ^C]\n",
            "Profile profile does not exist.\n",
            "The most similar profiles are: profile._pictures._, profile_org1, icons.30, profile_girl_hot, profile_.wallpaper.\n",
            "Stored ID 44589631714 for profile funwithmachinelearning.\n",
            "funwithmachinelearning/2020-12-16_17-23-15_UTC_profile_pic.jpg \n",
            "Retrieving posts from profile funwithmachinelearning.\n",
            "[ 1/48] funwithmachinelearning/2021-01-07_14-56-24_UTC_1.jpg funwithmachinelearning/2021-01-07_14-56-24_UTC_2.jpg funwithmachinelearning/2021-01-07_14-56-24_UTC_3.jpg [Staking- an intuitive and pow…] \n",
            "[ 2/48] funwithmachinelearning/2021-01-07_14-32-04_UTC.jpg [Here’s the discussion of the …] \n",
            "[ 3/48] funwithmachinelearning/2021-01-07_13-47-45_UTC.jpg [Today’s post is about a power…] \n",
            "[ 4/48] funwithmachinelearning/2021-01-04_14-41-36_UTC_1.jpg funwithmachinelearning/2021-01-04_14-41-36_UTC_2.jpg funwithmachinelearning/2021-01-04_14-41-36_UTC_3.jpg [Today’s post: Hyper-parameter…] \n",
            "[ 5/48] funwithmachinelearning/2021-01-04_14-39-10_UTC.jpg [Here’s the discussion for imp…] \n",
            "[ 6/48] funwithmachinelearning/2021-01-04_14-08-50_UTC.jpg [Hope you guys had a lovely ho…] \n",
            "[ 7/48] funwithmachinelearning/2020-12-29_16-14-24_UTC_1.jpg funwithmachinelearning/2020-12-29_16-14-24_UTC_2.jpg funwithmachinelearning/2020-12-29_16-14-24_UTC_3.jpg [Today topic: Random Forest🌳🌳 …] \n",
            "[ 8/48] funwithmachinelearning/2020-12-29_14-36-59_UTC.jpg [What is the earlier code for?…] \n",
            "[ 9/48] funwithmachinelearning/2020-12-29_14-02-18_UTC.jpg [Code to train a model using a…] \n",
            "[10/48] funwithmachinelearning/2020-12-28_12-29-47_UTC.jpg \n",
            "[11/48] funwithmachinelearning/2020-12-28_12-29-16_UTC.jpg \n",
            "[12/48] funwithmachinelearning/2020-12-27_14-04-10_UTC.jpg [Hope you all enjoyed your hol…] \n",
            "[13/48] funwithmachinelearning/2020-12-23_16-31-31_UTC.jpg [Histogram to inspect your var…] \n",
            "[14/48] funwithmachinelearning/2020-12-23_16-29-34_UTC.jpg [Histogram and how to use it. …] \n",
            "[15/48] funwithmachinelearning/2020-12-23_14-00-00_UTC.jpg [Today we’ll dive in to an imp…] \n",
            "[16/48] funwithmachinelearning/2020-12-22_16-34-46_UTC.jpg [Another Ensemble technique to…] \n",
            "[17/48] funwithmachinelearning/2020-12-22_16-31-33_UTC.jpg [What is Soft Voting Ensemble?…] \n",
            "[18/48] funwithmachinelearning/2020-12-22_14-20-41_UTC.jpg [Another modelling method that…] \n",
            "[19/48] funwithmachinelearning/2020-12-21_16-55-12_UTC.jpg [Log normalisation - a useful …] \n",
            "[20/48] funwithmachinelearning/2020-12-21_15-38-41_UTC.jpg [When the distribution of your…] \n",
            "[21/48] funwithmachinelearning/2020-12-21_14-04-06_UTC.jpg [Hi guys, let’s start off this…] \n",
            "[22/48] funwithmachinelearning/2020-12-19_16-52-00_UTC.jpg [Enjoy your weekend and don’t …] \n",
            "[23/48] funwithmachinelearning/2020-12-19_16-50-52_UTC.jpg [Another way to deal with NaN …] \n",
            "[24/48] funwithmachinelearning/2020-12-19_16-06-59_UTC.jpg [Hope everyone’s having a nice…] \n",
            "[25/48] funwithmachinelearning/2020-12-18_17-14-10_UTC.jpg [Our topic for today- hope you…] \n",
            "[26/48] funwithmachinelearning/2020-12-18_17-13-20_UTC.jpg [Discussion for SVM algorithm,…] \n",
            "[27/48] funwithmachinelearning/2020-12-18_16-07-25_UTC.jpg [Happy Friday😉! Today’s post i…] \n",
            "[28/48] funwithmachinelearning/2020-12-17_16-12-12_UTC.jpg [Always scatter plot your feat…] \n",
            "[29/48] funwithmachinelearning/2020-12-17_16-10-39_UTC.jpg [Discussion for the previous c…] \n",
            "[30/48] funwithmachinelearning/2020-12-17_14-04-49_UTC.jpg [This is the code to make a co…] \n",
            "[31/48] funwithmachinelearning/2020-12-16_16-27-57_UTC.jpg [Today’s post: Ensemble learni…] \n",
            "[32/48] funwithmachinelearning/2020-12-16_16-25-53_UTC.jpg [Here’s the discussion on when…] \n",
            "[33/48] funwithmachinelearning/2020-12-16_14-24-27_UTC.jpg [Here’s the code for a popular…] \n",
            "[34/48] funwithmachinelearning/2020-12-15_17-13-06_UTC.jpg [Today, we’re covering the bas…] \n",
            "[35/48] funwithmachinelearning/2020-12-15_16-09-04_UTC.jpg [Here is the discussion for th…] \n",
            "[36/48] funwithmachinelearning/2020-12-15_14-30-14_UTC.jpg [Happy Tuesday✨. Today’s topic…] \n",
            "[37/48] funwithmachinelearning/2020-12-14_09-37-51_UTC.jpg [Check out previous posts for …] \n",
            "[38/48] funwithmachinelearning/2020-12-14_09-32-03_UTC.jpg [That’s right, we are discussi…] \n",
            "[39/48] funwithmachinelearning/2020-12-14_08-02-17_UTC.jpg [Hello world🤗! Can you figure …] \n",
            "[40/48] funwithmachinelearning/2020-12-13_20-21-05_UTC.jpg \n",
            "[41/48] funwithmachinelearning/2020-12-13_20-20-59_UTC.jpg \n",
            "[42/48] funwithmachinelearning/2020-12-13_20-20-53_UTC.jpg \n",
            "[43/48] funwithmachinelearning/2020-12-13_20-20-45_UTC.jpg \n",
            "[44/48] funwithmachinelearning/2020-12-13_20-20-38_UTC.jpg \n",
            "[45/48] funwithmachinelearning/2020-12-13_20-20-33_UTC.jpg \n",
            "[46/48] funwithmachinelearning/2020-12-13_20-20-25_UTC.jpg \n",
            "[47/48] funwithmachinelearning/2020-12-13_20-20-17_UTC.jpg \n",
            "[48/48] funwithmachinelearning/2020-12-13_20-19-45_UTC.jpg \n",
            "Saved session to /home/pavan/.config/instaloader/session-learninguser.\n",
            "\n",
            "Errors or warnings occurred:\n",
            "Profile profile does not exist.\n",
            "The most similar profiles are: profile._pictures._, profile_org1, icons.30, profile_girl_hot, profile_.wallpaper.\n"
          ],
          "name": "stdout"
        }
      ]
    }
  ]
}