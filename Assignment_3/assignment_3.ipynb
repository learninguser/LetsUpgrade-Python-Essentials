{
  "nbformat": 4,
  "nbformat_minor": 0,
  "metadata": {
    "orig_nbformat": 2,
    "colab": {
      "name": "assignment_3.ipynb",
      "provenance": [],
      "collapsed_sections": []
    },
    "kernelspec": {
      "name": "python3",
      "display_name": "Python 3"
    }
  },
  "cells": [
    {
      "cell_type": "markdown",
      "metadata": {
        "id": "jCkOnLok__ZK"
      },
      "source": [
        "# Assignment 3 | 7th January 2021"
      ]
    },
    {
      "cell_type": "markdown",
      "metadata": {
        "id": "B6iwSZRm__ZW"
      },
      "source": [
        "## Question 1:\n",
        "Write a Python function to find the Max of three numbers."
      ]
    },
    {
      "cell_type": "code",
      "metadata": {
        "colab": {
          "base_uri": "https://localhost:8080/"
        },
        "id": "Uc34MQVcBbW3",
        "outputId": "3a00abc8-d4b4-4488-8af5-9fb837d64924"
      },
      "source": [
        "def max_numbers(*args):\n",
        "  return max(*args)\n",
        "l = [1, 2, 3]\n",
        "print(max_numbers(l))"
      ],
      "execution_count": 3,
      "outputs": [
        {
          "output_type": "stream",
          "text": [
            "3\n"
          ],
          "name": "stdout"
        }
      ]
    },
    {
      "cell_type": "markdown",
      "metadata": {
        "id": "rLPo0D_T__ZW"
      },
      "source": [
        "## Question 2\n",
        "Write a Python function that checks whether a passed string is palindrome or not"
      ]
    },
    {
      "cell_type": "code",
      "metadata": {
        "colab": {
          "base_uri": "https://localhost:8080/"
        },
        "id": "INEomSq7BvVj",
        "outputId": "1ae0d68c-0021-43c1-de5b-026b1c58962c"
      },
      "source": [
        "def isPalindrome(inp):\n",
        "  return inp == inp[::-1]\n",
        "string = \"madam\"\n",
        "print(isPalindrome(string))"
      ],
      "execution_count": 4,
      "outputs": [
        {
          "output_type": "stream",
          "text": [
            "True\n"
          ],
          "name": "stdout"
        }
      ]
    },
    {
      "cell_type": "markdown",
      "metadata": {
        "id": "FcNz1tw3__ZW"
      },
      "source": [
        "## Question 3\n",
        "Write a Python function that accepts a string and calculate the number of uppercase letters and lowercase letters"
      ]
    },
    {
      "cell_type": "code",
      "metadata": {
        "colab": {
          "base_uri": "https://localhost:8080/"
        },
        "id": "eiGr0-opCJFm",
        "outputId": "e0e9b0ad-97c3-4ec0-9f79-d06e0756fcbe"
      },
      "source": [
        "import string\n",
        "\n",
        "def calc_num_upper_lower(inStr):\n",
        "  str_lower = string.ascii_lowercase\n",
        "  str_upper = string.ascii_uppercase\n",
        "  low, upp = 0, 0\n",
        "  for ch in inStr:\n",
        "    if ch in str_lower:\n",
        "      low += 1\n",
        "    if ch in str_upper:\n",
        "      upp += 1\n",
        "  return low, upp\n",
        "\n",
        "inStr = \"Python Essentials JAN 2021 Batch 1\"\n",
        "res = calc_num_upper_lower(inStr)\n",
        "print(f\"Lower Case Count: {res[0]}, Upper Case Count: {res[1]}\")"
      ],
      "execution_count": 7,
      "outputs": [
        {
          "output_type": "stream",
          "text": [
            "Lower Case Count: 18, Upper Case Count: 6\n"
          ],
          "name": "stdout"
        }
      ]
    },
    {
      "cell_type": "markdown",
      "metadata": {
        "id": "eyJ0hEEv__ZX"
      },
      "source": [
        "## Question 4\n",
        "Write a Python function to sum all the numbers in a list\n"
      ]
    },
    {
      "cell_type": "code",
      "metadata": {
        "colab": {
          "base_uri": "https://localhost:8080/"
        },
        "id": "AZUE4sMPJJOR",
        "outputId": "fc528ca8-329d-4ec8-f0a1-c3ab16b3da76"
      },
      "source": [
        "def sum_numbers(l):\n",
        "  ans = 0\n",
        "  for entry in l:\n",
        "    if type(entry) == int:\n",
        "      ans += entry\n",
        "  return ans\n",
        "l = [1,2,3,\"Lets\",\"Upgrade\",10,15]\n",
        "print(sum_numbers(l))"
      ],
      "execution_count": 8,
      "outputs": [
        {
          "output_type": "stream",
          "text": [
            "31\n"
          ],
          "name": "stdout"
        }
      ]
    },
    {
      "cell_type": "markdown",
      "metadata": {
        "id": "3yYr5XbWAGXi"
      },
      "source": [
        "## Question 5\n",
        "\n",
        "Write a Python function to multiply all the numbers in a list\n"
      ]
    },
    {
      "cell_type": "code",
      "metadata": {
        "colab": {
          "base_uri": "https://localhost:8080/"
        },
        "id": "0e-xGXU8AYhC",
        "outputId": "77d8f8cd-7e33-40dd-855f-bfa6ec8cfce0"
      },
      "source": [
        "def multiply_numbers(l):\n",
        "  ans = 1\n",
        "  for entry in l:\n",
        "    if type(entry) == int:\n",
        "      ans *= entry\n",
        "  return ans\n",
        "l = [1,2,3,\"Lets\",\"Upgrade\",10,15]\n",
        "print(multiply_numbers(l))"
      ],
      "execution_count": 9,
      "outputs": [
        {
          "output_type": "stream",
          "text": [
            "900\n"
          ],
          "name": "stdout"
        }
      ]
    },
    {
      "cell_type": "markdown",
      "metadata": {
        "id": "EjxTKTWfAGM5"
      },
      "source": [
        "## Question 6\n",
        "\n",
        "Write a Python function that takes a list and returns a new list with unique elements of the first list\n"
      ]
    },
    {
      "cell_type": "code",
      "metadata": {
        "colab": {
          "base_uri": "https://localhost:8080/"
        },
        "id": "pEFn7xsnKa_2",
        "outputId": "520b8da6-b387-4684-a1ba-28b01fdeda8d"
      },
      "source": [
        "def unique(l):\n",
        "  return list(set(l))\n",
        "l = [\"Hello\",1,2,3,\"Hello\",1,5]\n",
        "print(unique(l))"
      ],
      "execution_count": 10,
      "outputs": [
        {
          "output_type": "stream",
          "text": [
            "[1, 2, 3, 5, 'Hello']\n"
          ],
          "name": "stdout"
        }
      ]
    }
  ]
}