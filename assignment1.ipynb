{
 "metadata": {
  "language_info": {
   "codemirror_mode": {
    "name": "ipython",
    "version": 3
   },
   "file_extension": ".py",
   "mimetype": "text/x-python",
   "name": "python",
   "nbconvert_exporter": "python",
   "pygments_lexer": "ipython3",
   "version": "3.6.12-final"
  },
  "orig_nbformat": 2,
  "kernelspec": {
   "name": "python3",
   "display_name": "Python 3",
   "language": "python"
  }
 },
 "nbformat": 4,
 "nbformat_minor": 2,
 "cells": [
  {
   "source": [
    "# Question 1"
   ],
   "cell_type": "markdown",
   "metadata": {}
  },
  {
   "source": [
    "Find the value of the following questions, Where x=5 <br />\n",
    "1: $\\frac{2x+5}{x^2+5x+6}$<br />\n"
   ],
   "cell_type": "markdown",
   "metadata": {}
  },
  {
   "cell_type": "code",
   "execution_count": 3,
   "metadata": {},
   "outputs": [
    {
     "output_type": "stream",
     "name": "stdout",
     "text": [
      "0.26785714285714285\n"
     ]
    }
   ],
   "source": [
    "x = 5\n",
    "ans = ((2 * x) + 5)/((x**2) + (5*x) + 6)\n",
    "print(ans)"
   ]
  },
  {
   "source": [
    "2: $\\frac{x^2+5x+6}{2x+5}$<br />"
   ],
   "cell_type": "markdown",
   "metadata": {}
  },
  {
   "cell_type": "code",
   "execution_count": 4,
   "metadata": {},
   "outputs": [
    {
     "output_type": "stream",
     "name": "stdout",
     "text": [
      "3.7333333333333334\n"
     ]
    }
   ],
   "source": [
    "x = 5\n",
    "ans = ((x**2) + (5*x) + 6)/((2 * x) + 5)\n",
    "print(ans)"
   ]
  },
  {
   "source": [
    "3: $(2x-3)(x-9)$"
   ],
   "cell_type": "markdown",
   "metadata": {}
  },
  {
   "cell_type": "code",
   "execution_count": 7,
   "metadata": {},
   "outputs": [
    {
     "output_type": "stream",
     "name": "stdout",
     "text": [
      "98\n"
     ]
    }
   ],
   "source": [
    "x = 5\n",
    "ans = ((2 * x) - 3) * (x + 9)\n",
    "print(ans)"
   ]
  },
  {
   "source": [
    "## Question 2:"
   ],
   "cell_type": "markdown",
   "metadata": {}
  },
  {
   "source": [
    "Create a username and password login file using nested while loop"
   ],
   "cell_type": "markdown",
   "metadata": {}
  },
  {
   "cell_type": "code",
   "execution_count": 11,
   "metadata": {
    "tags": []
   },
   "outputs": [
    {
     "output_type": "stream",
     "name": "stdout",
     "text": [
      "Your username is incorrect !, please try again. Attempt 1 of 5\n",
      "Your password is incorrect !, please try again. Attempt 2 of 5\n",
      "Congratulations, You are successfully logged in!\n"
     ]
    }
   ],
   "source": [
    "username = input(\"Enter your username: \")\n",
    "password = input(\"Enter your password: \")\n",
    "\n",
    "user = False\n",
    "pswd = False\n",
    "i = 1\n",
    "while i <= 5:\n",
    "    if username == \"INDIA\":\n",
    "        user = True\n",
    "        if password == \"IND\":\n",
    "            print(\"Congratulations, You are successfully logged in!\")\n",
    "            pswd = True\n",
    "            break\n",
    "        else:\n",
    "            print(f\"Your password is incorrect !, please try again. Attempt {i} of 5\")\n",
    "            password = input(\"Enter your password: \")\n",
    "            i += 1\n",
    "            pswd = False\n",
    "\n",
    "    else:\n",
    "        print(f\"Your username is incorrect !, please try again. Attempt {i} of 5\")\n",
    "        username = input(\"Enter your username: \")\n",
    "        i += 1\n",
    "        user = False\n",
    "\n",
    "if not user or not pswd:\n",
    "    print(\"Invalid Credentials !!!, Account locked for 24 hours\") "
   ]
  },
  {
   "cell_type": "code",
   "execution_count": null,
   "metadata": {},
   "outputs": [],
   "source": []
  }
 ]
}